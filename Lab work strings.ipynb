{
 "cells": [
  {
   "cell_type": "code",
   "execution_count": 3,
   "id": "78ce690d",
   "metadata": {},
   "outputs": [
    {
     "name": "stdout",
     "output_type": "stream",
     "text": [
      "I am strengthening my programming skills in order to become a great Data Analyst\n"
     ]
    }
   ],
   "source": [
    "str_list = ['I', 'am', 'strengthening', 'my', 'programming', 'skills', 'in', 'order', 'to', 'become', 'a', 'great', 'Data','Analyst']\n",
    "print(\" \".join(str_list))"
   ]
  },
  {
   "cell_type": "code",
   "execution_count": 2,
   "id": "9e64d99a",
   "metadata": {},
   "outputs": [
    {
     "name": "stdout",
     "output_type": "stream",
     "text": [
      "Grocery list: ['bananas', 'bread', 'brownie mix', 'broccoli']\n"
     ]
    }
   ],
   "source": [
    "###Start the list with the string Grocery list: and include a comma and a space between each item except for the last one.\n",
    "## Include a period at the end. Only include foods in the list that start with the letter 'b' and ensure all foods are lower case.\n",
    "food_list = ['Bananas', 'Chocolate', 'bread', 'diapers', 'Ice Cream', 'Brownie Mix', 'broccoli']\n",
    "grocery_list = []\n",
    "for food in food_list:\n",
    "    if food.lower().startswith('b') == True:\n",
    "        grocery_list.append(food.lower())\n",
    "    \n",
    "print(f\"Grocery list: {grocery_list}\")"
   ]
  },
  {
   "cell_type": "code",
   "execution_count": 4,
   "id": "7000791d",
   "metadata": {},
   "outputs": [
    {
     "name": "stdout",
     "output_type": "stream",
     "text": [
      "The area of the circle with radius: 4.5 is 63.61725123519331.\n"
     ]
    }
   ],
   "source": [
    "import math\n",
    "\n",
    "string1 = \"The area of the circle with radius:\"\n",
    "string2  = \"is:\"\n",
    "radius = 4.5\n",
    "pi = math.pi\n",
    "area= pi*radius**2\n",
    "string3 = string2.rstrip(\":\")\n",
    "print(f\"{string1} {radius} {string3} {area}.\")"
   ]
  },
  {
   "cell_type": "markdown",
   "id": "506a1715",
   "metadata": {},
   "source": [
    "### Challenge 2: Sets"
   ]
  },
  {
   "cell_type": "code",
   "execution_count": 218,
   "id": "0f381353",
   "metadata": {},
   "outputs": [
    {
     "name": "stdout",
     "output_type": "stream",
     "text": [
      "[51, 52, 59, 26, 84, 76, 89, 19, 31, 81, 40, 8, 88, 14, 29, 17, 36, 16, 0, 72, 24, 35, 43, 10, 87, 50, 56, 68, 15, 63, 2, 53, 91, 94, 33, 44, 5, 49, 78, 62, 67, 12, 38, 99, 18, 6, 73, 93, 30, 45, 47, 83, 65, 75, 1, 61, 34, 25, 79, 37, 85, 96, 42, 27, 21, 66, 90, 92, 20, 23, 82, 100, 98, 57, 97, 39, 41, 46, 22, 11]\n"
     ]
    },
    {
     "data": {
      "text/plain": [
       "80"
      ]
     },
     "execution_count": 218,
     "metadata": {},
     "output_type": "execute_result"
    }
   ],
   "source": [
    "import random\n",
    "sl1= (random.sample(range(0, 101), 80))\n",
    "print(sl1)\n",
    "len(sl1)"
   ]
  },
  {
   "cell_type": "code",
   "execution_count": 217,
   "id": "3d5aca3e",
   "metadata": {},
   "outputs": [
    {
     "name": "stdout",
     "output_type": "stream",
     "text": [
      "[70, 29, 19, 47, 34, 87, 80, 40, 80, 59, 89, 83, 74, 10, 52, 83, 41, 86, 25, 25, 0, 11, 18, 43, 52, 19, 51, 96, 44, 92, 58, 6, 84, 91, 94, 14, 73, 8, 72, 44, 19, 22, 41, 82, 59, 4, 65, 58, 98, 36, 35, 8, 45, 37, 63, 43, 50, 35, 46, 23, 49, 53, 23, 47, 91, 41, 72, 95, 2, 28, 66, 83, 6, 65, 60, 70, 9, 86, 100, 37]\n"
     ]
    },
    {
     "data": {
      "text/plain": [
       "80"
      ]
     },
     "execution_count": 217,
     "metadata": {},
     "output_type": "execute_result"
    }
   ],
   "source": [
    "import random\n",
    "sl2=[]\n",
    "from random import randint\n",
    "for i in range(80):\n",
    "    value = randint(0, 101)\n",
    "    sl2.append(value)\n",
    "\n",
    "print(sl2)\n",
    "len(sl2)"
   ]
  },
  {
   "cell_type": "code",
   "execution_count": 220,
   "id": "7c0c8d59",
   "metadata": {},
   "outputs": [
    {
     "name": "stdout",
     "output_type": "stream",
     "text": [
      "{0, 1, 2, 5, 6, 8, 10, 11, 12, 14, 15, 16, 17, 18, 19, 20, 21, 22, 23, 24, 25, 26, 27, 29, 30, 31, 33, 34, 35, 36, 37, 38, 39, 40, 41, 42, 43, 44, 45, 46, 47, 49, 50, 51, 52, 53, 56, 57, 59, 61, 62, 63, 65, 66, 67, 68, 72, 73, 75, 76, 78, 79, 81, 82, 83, 84, 85, 87, 88, 89, 90, 91, 92, 93, 94, 96, 97, 98, 99, 100}\n"
     ]
    },
    {
     "data": {
      "text/plain": [
       "80"
      ]
     },
     "execution_count": 220,
     "metadata": {},
     "output_type": "execute_result"
    }
   ],
   "source": [
    "set1 = set(sl1)\n",
    "print(set1)\n",
    "len(set1)"
   ]
  },
  {
   "cell_type": "code",
   "execution_count": 221,
   "id": "95b8531e",
   "metadata": {},
   "outputs": [
    {
     "name": "stdout",
     "output_type": "stream",
     "text": [
      "{0, 2, 4, 6, 8, 9, 10, 11, 14, 18, 19, 22, 23, 25, 28, 29, 34, 35, 36, 37, 40, 41, 43, 44, 45, 46, 47, 49, 50, 51, 52, 53, 58, 59, 60, 63, 65, 66, 70, 72, 73, 74, 80, 82, 83, 84, 86, 87, 89, 91, 92, 94, 95, 96, 98, 100}\n"
     ]
    },
    {
     "data": {
      "text/plain": [
       "56"
      ]
     },
     "execution_count": 221,
     "metadata": {},
     "output_type": "execute_result"
    }
   ],
   "source": [
    "set2 = set(sl2)\n",
    "print(set2)\n",
    "len(set2)"
   ]
  },
  {
   "cell_type": "markdown",
   "id": "ba4a1f4e",
   "metadata": {},
   "source": [
    "Identify the elements present in set1 but not in set2. Assign the elements to a new set named set3"
   ]
  },
  {
   "cell_type": "code",
   "execution_count": 225,
   "id": "3444742b",
   "metadata": {},
   "outputs": [
    {
     "name": "stdout",
     "output_type": "stream",
     "text": [
      "{1, 5, 12, 15, 16, 17, 20, 21, 24, 26, 27, 30, 31, 33, 38, 39, 42, 56, 57, 61, 62, 67, 68, 75, 76, 78, 79, 81, 85, 88, 90, 93, 97, 99}\n"
     ]
    }
   ],
   "source": [
    "set3=set1.difference(set2)\n",
    "print(set3)"
   ]
  },
  {
   "cell_type": "markdown",
   "id": "f110697e",
   "metadata": {},
   "source": [
    "Identify the elements present in set2 but not in set1. Assign the elements to a new set named set4.¶"
   ]
  },
  {
   "cell_type": "code",
   "execution_count": 226,
   "id": "a911ec8d",
   "metadata": {},
   "outputs": [
    {
     "name": "stdout",
     "output_type": "stream",
     "text": [
      "{4, 70, 9, 74, 60, 80, 86, 58, 28, 95}\n"
     ]
    }
   ],
   "source": [
    "set4=set2.difference(set1)\n",
    "print(set4)"
   ]
  },
  {
   "cell_type": "markdown",
   "id": "e711e637",
   "metadata": {},
   "source": [
    "Now Identify the elements shared between set1 and set2. Assign the elements to a new set named set5.¶"
   ]
  },
  {
   "cell_type": "code",
   "execution_count": 228,
   "id": "e0355fd0",
   "metadata": {},
   "outputs": [
    {
     "name": "stdout",
     "output_type": "stream",
     "text": [
      "{0, 2, 6, 8, 10, 11, 14, 18, 19, 22, 23, 25, 29, 34, 35, 36, 37, 40, 41, 43, 44, 45, 46, 47, 49, 50, 51, 52, 53, 59, 63, 65, 66, 72, 73, 82, 83, 84, 87, 89, 91, 92, 94, 96, 98, 100}\n"
     ]
    }
   ],
   "source": [
    "set5=set2.intersection(set1)\n",
    "print(set5)"
   ]
  },
  {
   "cell_type": "markdown",
   "id": "38de1f51",
   "metadata": {},
   "source": [
    "What is the relationship among the following values:\n",
    "    \n",
    "#len(set1)\n",
    "#len(set2)\n",
    "#len(set3)\n",
    "#len(set4)\n",
    "#len(set5)\n",
    "#Use a math formular to represent that relationship. Test your formular with Python code."
   ]
  },
  {
   "cell_type": "code",
   "execution_count": null,
   "id": "54368bb1",
   "metadata": {},
   "outputs": [],
   "source": []
  },
  {
   "cell_type": "markdown",
   "id": "e890b840",
   "metadata": {},
   "source": [
    "Create an empty set called set6"
   ]
  },
  {
   "cell_type": "code",
   "execution_count": 223,
   "id": "10cdd7db",
   "metadata": {},
   "outputs": [
    {
     "data": {
      "text/plain": [
       "set"
      ]
     },
     "execution_count": 223,
     "metadata": {},
     "output_type": "execute_result"
    }
   ],
   "source": [
    "set6=set()\n",
    "type(set6)"
   ]
  },
  {
   "cell_type": "markdown",
   "id": "b5c3f711",
   "metadata": {},
   "source": [
    "Add set3 and set5 to set6 using the Python Set update method."
   ]
  },
  {
   "cell_type": "code",
   "execution_count": null,
   "id": "89e05c1d",
   "metadata": {},
   "outputs": [],
   "source": []
  },
  {
   "cell_type": "markdown",
   "id": "5584a2fb",
   "metadata": {},
   "source": [
    "Check if set1 and set6 are equal."
   ]
  },
  {
   "cell_type": "code",
   "execution_count": null,
   "id": "a0507777",
   "metadata": {},
   "outputs": [],
   "source": []
  },
  {
   "cell_type": "markdown",
   "id": "162faa96",
   "metadata": {},
   "source": [
    "\n",
    "Check if set1 contains set2 using the Python Set issubset method. Then check if set1 contains set3"
   ]
  },
  {
   "cell_type": "code",
   "execution_count": null,
   "id": "3c7c61f9",
   "metadata": {},
   "outputs": [],
   "source": []
  },
  {
   "cell_type": "markdown",
   "id": "83edb26d",
   "metadata": {},
   "source": [
    "Using the Python Set union method, aggregate set3, set4, and set5. Then aggregate set1 and set2.\n",
    "Check if the aggregated values are equal."
   ]
  },
  {
   "cell_type": "code",
   "execution_count": null,
   "id": "9542fad7",
   "metadata": {},
   "outputs": [],
   "source": []
  },
  {
   "cell_type": "markdown",
   "id": "328ce7d4",
   "metadata": {},
   "source": [
    "Using the pop method, remove an element from set1."
   ]
  },
  {
   "cell_type": "code",
   "execution_count": null,
   "id": "3ec10b27",
   "metadata": {},
   "outputs": [],
   "source": []
  },
  {
   "cell_type": "markdown",
   "id": "8db4fcdc",
   "metadata": {},
   "source": [
    "\n",
    "Remove every element in the following list from set1 if they are present in the set. Print the remaining elements.\n",
    "list_to_remove = [1, 9, 11, 19, 21, 29, 31, 39, 41, 49, 51, 59, 61, 69, 71, 79, 81, 89, 91, 99]"
   ]
  },
  {
   "cell_type": "code",
   "execution_count": null,
   "id": "eb39b757",
   "metadata": {},
   "outputs": [],
   "source": []
  },
  {
   "cell_type": "code",
   "execution_count": 48,
   "id": "39f37717",
   "metadata": {},
   "outputs": [],
   "source": [
    "word_freq = {'love': 25, 'conversation': 1, 'every': 6, \"we're\": 1, 'plate': 1, 'sour': 1, 'jukebox': 1, 'now': 11, 'taxi': 1, 'fast': 1, 'bag': 1, 'man': 1, 'push': 3, 'baby': 14, 'going': 1, 'you': 16, \"don't\": 2, 'one': 1, 'mind': 2, 'backseat': 1, 'friends': 1, 'then': 3, 'know': 2, 'take': 1, 'play': 1, 'okay': 1, 'so': 2, 'begin': 1, 'start': 2, 'over': 1, 'body': 17, 'boy': 2, 'just': 1, 'we': 7, 'are': 1, 'girl': 2, 'tell': 1, 'singing': 2, 'drinking': 1, 'put': 3, 'our': 1, 'where': 1, \"i'll\": 1, 'all': 1, \"isn't\": 1, 'make': 1, 'lover': 1, 'get': 1, 'radio': 1, 'give': 1, \"i'm\": 23, 'like': 10, 'can': 1, 'doing': 2, 'with': 22, 'club': 1, 'come': 37, 'it': 1, 'somebody': 2, 'handmade': 2, 'out': 1, 'new': 6, 'room': 3, 'chance': 1, 'follow': 6, 'in': 27, 'may': 2, 'brand': 6, 'that': 2, 'magnet': 3, 'up': 3, 'first': 1, 'and': 23, 'pull': 3, 'of': 6, 'table': 1, 'much': 2, 'last': 3, 'i': 6, 'thrifty': 1, 'grab': 2, 'was': 2, 'driver': 1, 'slow': 1, 'dance': 1, 'the': 18, 'say': 2, 'trust': 1, 'family': 1, 'week': 1, 'date': 1, 'me': 10, 'do': 3, 'waist': 2, 'smell': 3, 'day': 6, 'although': 3, 'your': 21, 'leave': 1, 'want': 2, \"let's\": 2, 'lead': 6, 'at': 1, 'hand': 1, 'how': 1, 'talk': 4, 'not': 2, 'eat': 1, 'falling': 3, 'about': 1, 'story': 1, 'sweet': 1, 'best': 1, 'crazy': 2, 'let': 1, 'too': 5, 'van': 1, 'shots': 1, 'go': 2, 'to': 2, 'a': 8, 'my': 33, 'is': 5, 'place': 1, 'find': 1, 'shape': 6, 'on': 40, 'kiss': 1, 'were': 3, 'night': 3, 'heart': 3, 'for': 3, 'discovering': 6, 'something': 6, 'be': 16, 'bedsheets': 3, 'fill': 2, 'hours': 2, 'stop': 1, 'bar': 1}"
   ]
  },
  {
   "cell_type": "code",
   "execution_count": 132,
   "id": "74152752",
   "metadata": {},
   "outputs": [
    {
     "data": {
      "text/plain": [
       "{'a': 8,\n",
       " 'about': 1,\n",
       " 'all': 1,\n",
       " 'although': 3,\n",
       " 'and': 23,\n",
       " 'are': 1,\n",
       " 'at': 1,\n",
       " 'baby': 14,\n",
       " 'backseat': 1,\n",
       " 'bag': 1,\n",
       " 'bar': 1,\n",
       " 'be': 16,\n",
       " 'bedsheets': 3,\n",
       " 'begin': 1,\n",
       " 'best': 1,\n",
       " 'body': 17,\n",
       " 'boy': 2,\n",
       " 'brand': 6,\n",
       " 'can': 1,\n",
       " 'chance': 1,\n",
       " 'club': 1,\n",
       " 'come': 37,\n",
       " 'conversation': 1,\n",
       " 'crazy': 2,\n",
       " 'dance': 1,\n",
       " 'date': 1,\n",
       " 'day': 6,\n",
       " 'discovering': 6,\n",
       " 'do': 3,\n",
       " 'doing': 2,\n",
       " \"don't\": 2,\n",
       " 'drinking': 1,\n",
       " 'driver': 1,\n",
       " 'eat': 1,\n",
       " 'every': 6,\n",
       " 'falling': 3,\n",
       " 'family': 1,\n",
       " 'fast': 1,\n",
       " 'fill': 2,\n",
       " 'find': 1,\n",
       " 'first': 1,\n",
       " 'follow': 6,\n",
       " 'for': 3,\n",
       " 'friends': 1,\n",
       " 'get': 1,\n",
       " 'girl': 2,\n",
       " 'give': 1,\n",
       " 'go': 2,\n",
       " 'going': 1,\n",
       " 'grab': 2,\n",
       " 'hand': 1,\n",
       " 'handmade': 2,\n",
       " 'heart': 3,\n",
       " 'hours': 2,\n",
       " 'how': 1,\n",
       " 'i': 6,\n",
       " \"i'll\": 1,\n",
       " \"i'm\": 23,\n",
       " 'in': 27,\n",
       " 'is': 5,\n",
       " \"isn't\": 1,\n",
       " 'it': 1,\n",
       " 'jukebox': 1,\n",
       " 'just': 1,\n",
       " 'kiss': 1,\n",
       " 'know': 2,\n",
       " 'last': 3,\n",
       " 'lead': 6,\n",
       " 'leave': 1,\n",
       " 'let': 1,\n",
       " \"let's\": 2,\n",
       " 'like': 10,\n",
       " 'love': 25,\n",
       " 'lover': 1,\n",
       " 'magnet': 3,\n",
       " 'make': 1,\n",
       " 'man': 1,\n",
       " 'may': 2,\n",
       " 'me': 10,\n",
       " 'mind': 2,\n",
       " 'much': 2,\n",
       " 'my': 33,\n",
       " 'new': 6,\n",
       " 'night': 3,\n",
       " 'not': 2,\n",
       " 'now': 11,\n",
       " 'of': 6,\n",
       " 'okay': 1,\n",
       " 'on': 40,\n",
       " 'one': 1,\n",
       " 'our': 1,\n",
       " 'out': 1,\n",
       " 'over': 1,\n",
       " 'place': 1,\n",
       " 'plate': 1,\n",
       " 'play': 1,\n",
       " 'pull': 3,\n",
       " 'push': 3,\n",
       " 'put': 3,\n",
       " 'radio': 1,\n",
       " 'room': 3,\n",
       " 'say': 2,\n",
       " 'shape': 6,\n",
       " 'shots': 1,\n",
       " 'singing': 2,\n",
       " 'slow': 1,\n",
       " 'smell': 3,\n",
       " 'so': 2,\n",
       " 'somebody': 2,\n",
       " 'something': 6,\n",
       " 'sour': 1,\n",
       " 'start': 2,\n",
       " 'stop': 1,\n",
       " 'story': 1,\n",
       " 'sweet': 1,\n",
       " 'table': 1,\n",
       " 'take': 1,\n",
       " 'talk': 4,\n",
       " 'taxi': 1,\n",
       " 'tell': 1,\n",
       " 'that': 2,\n",
       " 'the': 18,\n",
       " 'then': 3,\n",
       " 'thrifty': 1,\n",
       " 'to': 2,\n",
       " 'too': 5,\n",
       " 'trust': 1,\n",
       " 'up': 3,\n",
       " 'van': 1,\n",
       " 'waist': 2,\n",
       " 'want': 2,\n",
       " 'was': 2,\n",
       " 'we': 7,\n",
       " \"we're\": 1,\n",
       " 'week': 1,\n",
       " 'were': 3,\n",
       " 'where': 1,\n",
       " 'with': 22,\n",
       " 'you': 16,\n",
       " 'your': 21}"
      ]
     },
     "execution_count": 132,
     "metadata": {},
     "output_type": "execute_result"
    }
   ],
   "source": [
    "word1= {k: word_freq[k] for k in sorted(word_freq)}\n",
    "word1"
   ]
  },
  {
   "cell_type": "markdown",
   "id": "26ef40a2",
   "metadata": {},
   "source": [
    "First extract the keys of word_freq and convert it to a list called keys.\n",
    "\n",
    "Sort the keys list.\n",
    "\n",
    "Create an empty dictionary word_freq2.\n",
    "\n",
    "Use a FOR loop to iterate each value in keys. For each key iterated, \n",
    "find the corresponding value in word_freq and insert the key-value pair to word_freq2.\n",
    "\n",
    "Print out word_freq2 to examine its keys and values. Your output should be:"
   ]
  },
  {
   "cell_type": "code",
   "execution_count": 184,
   "id": "f217e98e",
   "metadata": {},
   "outputs": [
    {
     "name": "stdout",
     "output_type": "stream",
     "text": [
      "{'a': 8}\n",
      "{'about': 1}\n",
      "{'all': 1}\n",
      "{'although': 3}\n",
      "{'and': 23}\n",
      "{'are': 1}\n",
      "{'at': 1}\n",
      "{'baby': 14}\n",
      "{'backseat': 1}\n",
      "{'bag': 1}\n",
      "{'bar': 1}\n",
      "{'be': 16}\n",
      "{'bedsheets': 3}\n",
      "{'begin': 1}\n",
      "{'best': 1}\n",
      "{'body': 17}\n",
      "{'boy': 2}\n",
      "{'brand': 6}\n",
      "{'can': 1}\n",
      "{'chance': 1}\n",
      "{'club': 1}\n",
      "{'come': 37}\n",
      "{'conversation': 1}\n",
      "{'crazy': 2}\n",
      "{'dance': 1}\n",
      "{'date': 1}\n",
      "{'day': 6}\n",
      "{'discovering': 6}\n",
      "{'do': 3}\n",
      "{'doing': 2}\n",
      "{\"don't\": 2}\n",
      "{'drinking': 1}\n",
      "{'driver': 1}\n",
      "{'eat': 1}\n",
      "{'every': 6}\n",
      "{'falling': 3}\n",
      "{'family': 1}\n",
      "{'fast': 1}\n",
      "{'fill': 2}\n",
      "{'find': 1}\n",
      "{'first': 1}\n",
      "{'follow': 6}\n",
      "{'for': 3}\n",
      "{'friends': 1}\n",
      "{'get': 1}\n",
      "{'girl': 2}\n",
      "{'give': 1}\n",
      "{'go': 2}\n",
      "{'going': 1}\n",
      "{'grab': 2}\n",
      "{'hand': 1}\n",
      "{'handmade': 2}\n",
      "{'heart': 3}\n",
      "{'hours': 2}\n",
      "{'how': 1}\n",
      "{'i': 6}\n",
      "{\"i'll\": 1}\n",
      "{\"i'm\": 23}\n",
      "{'in': 27}\n",
      "{'is': 5}\n",
      "{\"isn't\": 1}\n",
      "{'it': 1}\n",
      "{'jukebox': 1}\n",
      "{'just': 1}\n",
      "{'kiss': 1}\n",
      "{'know': 2}\n",
      "{'last': 3}\n",
      "{'lead': 6}\n",
      "{'leave': 1}\n",
      "{'let': 1}\n",
      "{\"let's\": 2}\n",
      "{'like': 10}\n",
      "{'love': 25}\n",
      "{'lover': 1}\n",
      "{'magnet': 3}\n",
      "{'make': 1}\n",
      "{'man': 1}\n",
      "{'may': 2}\n",
      "{'me': 10}\n",
      "{'mind': 2}\n",
      "{'much': 2}\n",
      "{'my': 33}\n",
      "{'new': 6}\n",
      "{'night': 3}\n",
      "{'not': 2}\n",
      "{'now': 11}\n",
      "{'of': 6}\n",
      "{'okay': 1}\n",
      "{'on': 40}\n",
      "{'one': 1}\n",
      "{'our': 1}\n",
      "{'out': 1}\n",
      "{'over': 1}\n",
      "{'place': 1}\n",
      "{'plate': 1}\n",
      "{'play': 1}\n",
      "{'pull': 3}\n",
      "{'push': 3}\n",
      "{'put': 3}\n",
      "{'radio': 1}\n",
      "{'room': 3}\n",
      "{'say': 2}\n",
      "{'shape': 6}\n",
      "{'shots': 1}\n",
      "{'singing': 2}\n",
      "{'slow': 1}\n",
      "{'smell': 3}\n",
      "{'so': 2}\n",
      "{'somebody': 2}\n",
      "{'something': 6}\n",
      "{'sour': 1}\n",
      "{'start': 2}\n",
      "{'stop': 1}\n",
      "{'story': 1}\n",
      "{'sweet': 1}\n",
      "{'table': 1}\n",
      "{'take': 1}\n",
      "{'talk': 4}\n",
      "{'taxi': 1}\n",
      "{'tell': 1}\n",
      "{'that': 2}\n",
      "{'the': 18}\n",
      "{'then': 3}\n",
      "{'thrifty': 1}\n",
      "{'to': 2}\n",
      "{'too': 5}\n",
      "{'trust': 1}\n",
      "{'up': 3}\n",
      "{'van': 1}\n",
      "{'waist': 2}\n",
      "{'want': 2}\n",
      "{'was': 2}\n",
      "{'we': 7}\n",
      "{\"we're\": 1}\n",
      "{'week': 1}\n",
      "{'were': 3}\n",
      "{'where': 1}\n",
      "{'with': 22}\n",
      "{'you': 16}\n",
      "{'your': 21}\n"
     ]
    }
   ],
   "source": [
    "keys1=[]\n",
    "for key in word_freq.keys():\n",
    "    keys1.append(key)\n",
    "keys1.sort()   \n",
    "keys1\n",
    "\n",
    "freq2=[]\n",
    "for i in range(len(keys1)):\n",
    "        freq2= {keys1[i]: word_freq[keys1[i]]}\n",
    "        print(freq2)"
   ]
  },
  {
   "cell_type": "code",
   "execution_count": null,
   "id": "aa2f96ad",
   "metadata": {},
   "outputs": [],
   "source": []
  }
 ],
 "metadata": {
  "kernelspec": {
   "display_name": "Python 3",
   "language": "python",
   "name": "python3"
  },
  "language_info": {
   "codemirror_mode": {
    "name": "ipython",
    "version": 3
   },
   "file_extension": ".py",
   "mimetype": "text/x-python",
   "name": "python",
   "nbconvert_exporter": "python",
   "pygments_lexer": "ipython3",
   "version": "3.8.8"
  }
 },
 "nbformat": 4,
 "nbformat_minor": 5
}
