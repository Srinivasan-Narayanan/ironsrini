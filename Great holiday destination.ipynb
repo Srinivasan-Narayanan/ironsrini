{
 "cells": [
  {
   "cell_type": "markdown",
   "id": "ae2d6004",
   "metadata": {},
   "source": [
    "# Great holiday destination"
   ]
  },
  {
   "cell_type": "markdown",
   "id": "c0034bd1",
   "metadata": {},
   "source": [
    "## My favorite actor's holiday destination and why he likes it the most."
   ]
  },
  {
   "cell_type": "code",
   "execution_count": 1,
   "id": "a5120af6",
   "metadata": {},
   "outputs": [
    {
     "name": "stdout",
     "output_type": "stream",
     "text": [
      "Please enter your name: Tom Hanks\n",
      "Please enter your favorite vacation destination: Rome\n"
     ]
    }
   ],
   "source": [
    "person = input(\"Please enter your name: \")\n",
    "vacation = input(\"Please enter your favorite vacation destination: \")"
   ]
  },
  {
   "cell_type": "code",
   "execution_count": 11,
   "id": "4090dd33",
   "metadata": {},
   "outputs": [
    {
     "name": "stdout",
     "output_type": "stream",
     "text": [
      "Tom Hanks\n",
      "Tom Hanks ' favorite holiday destination is Rome .\n"
     ]
    }
   ],
   "source": [
    "print(person)\n",
    "print(person,\"' favorite holiday destination is\",vacation,\".\")"
   ]
  },
  {
   "cell_type": "code",
   "execution_count": 7,
   "id": "52d8f295",
   "metadata": {},
   "outputs": [
    {
     "data": {
      "text/html": [
       "<img src=\"https://upload.wikimedia.org/wikipedia/commons/a/a9/Tom_Hanks_TIFF_2019.jpg\" width=\"400\" height=\"400\"/>"
      ],
      "text/plain": [
       "<IPython.core.display.Image object>"
      ]
     },
     "execution_count": 7,
     "metadata": {},
     "output_type": "execute_result"
    }
   ],
   "source": [
    "from IPython.display import Image\n",
    "from IPython.core.display import HTML \n",
    "Image(url= \"https://upload.wikimedia.org/wikipedia/commons/a/a9/Tom_Hanks_TIFF_2019.jpg\", width=400, height=400)"
   ]
  },
  {
   "cell_type": "markdown",
   "id": "819bea38",
   "metadata": {},
   "source": [
    "### \n",
    "<span style='color:blue '>\n",
    "    \n",
    "- Tom Hanks loves Italian heritage. \n",
    "- Tom Hanks enjoys Chianti wine. \n",
    "- Tom Hanks goes crazy with the warm weather."
   ]
  },
  {
   "cell_type": "code",
   "execution_count": 8,
   "id": "9516acff",
   "metadata": {},
   "outputs": [
    {
     "data": {
      "text/html": [
       "<img src=\"https://upload.wikimedia.org/wikipedia/commons/c/c0/Rome_Montage_2017.png\" width=\"800\" height=\"400\"/>"
      ],
      "text/plain": [
       "<IPython.core.display.Image object>"
      ]
     },
     "execution_count": 8,
     "metadata": {},
     "output_type": "execute_result"
    }
   ],
   "source": [
    "from IPython.display import Image\n",
    "from IPython.core.display import HTML \n",
    "Image(url= \"https://upload.wikimedia.org/wikipedia/commons/c/c0/Rome_Montage_2017.png\", width=800, height=400)"
   ]
  },
  {
   "cell_type": "markdown",
   "id": "8f21a393",
   "metadata": {},
   "source": [
    "[To watch more about Rome](https://www.youtube.com/watch?v=EsFheWkimsU)"
   ]
  }
 ],
 "metadata": {
  "kernelspec": {
   "display_name": "Python 3",
   "language": "python",
   "name": "python3"
  },
  "language_info": {
   "codemirror_mode": {
    "name": "ipython",
    "version": 3
   },
   "file_extension": ".py",
   "mimetype": "text/x-python",
   "name": "python",
   "nbconvert_exporter": "python",
   "pygments_lexer": "ipython3",
   "version": "3.8.8"
  }
 },
 "nbformat": 4,
 "nbformat_minor": 5
}
